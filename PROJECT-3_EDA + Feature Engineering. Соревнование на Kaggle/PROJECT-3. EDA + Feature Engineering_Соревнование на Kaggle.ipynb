{
 "cells": [
  {
   "cell_type": "code",
   "execution_count": 100,
   "metadata": {},
   "outputs": [],
   "source": [
    "import pandas as pd\n",
    "import numpy as np\n",
    "from geopy import Yandex\n",
    "import re\n",
    "import nltk\n",
    "from nltk.sentiment.vader import SentimentIntensityAnalyzer\n",
    "import time"
   ]
  },
  {
   "cell_type": "code",
   "execution_count": 101,
   "metadata": {},
   "outputs": [],
   "source": [
    "# поменяем некоторые свойства pandas, чтобы данные полностью выводились на экран\n",
    "pd.set_option('display.max_rows', 20)\n",
    "pd.set_option('display.max_columns', None)\n",
    "pd.set_option('display.max_colwidth', None)\n",
    "pd.set_option('mode.chained_assignment', None)"
   ]
  },
  {
   "cell_type": "code",
   "execution_count": 102,
   "metadata": {},
   "outputs": [
    {
     "data": {
      "text/html": [
       "<div>\n",
       "<style scoped>\n",
       "    .dataframe tbody tr th:only-of-type {\n",
       "        vertical-align: middle;\n",
       "    }\n",
       "\n",
       "    .dataframe tbody tr th {\n",
       "        vertical-align: top;\n",
       "    }\n",
       "\n",
       "    .dataframe thead th {\n",
       "        text-align: right;\n",
       "    }\n",
       "</style>\n",
       "<table border=\"1\" class=\"dataframe\">\n",
       "  <thead>\n",
       "    <tr style=\"text-align: right;\">\n",
       "      <th></th>\n",
       "      <th>hotel_address</th>\n",
       "      <th>additional_number_of_scoring</th>\n",
       "      <th>review_date</th>\n",
       "      <th>average_score</th>\n",
       "      <th>hotel_name</th>\n",
       "      <th>reviewer_nationality</th>\n",
       "      <th>negative_review</th>\n",
       "      <th>review_total_negative_word_counts</th>\n",
       "      <th>total_number_of_reviews</th>\n",
       "      <th>positive_review</th>\n",
       "      <th>review_total_positive_word_counts</th>\n",
       "      <th>total_number_of_reviews_reviewer_has_given</th>\n",
       "      <th>reviewer_score</th>\n",
       "      <th>tags</th>\n",
       "      <th>days_since_review</th>\n",
       "      <th>lat</th>\n",
       "      <th>lng</th>\n",
       "    </tr>\n",
       "  </thead>\n",
       "  <tbody>\n",
       "    <tr>\n",
       "      <th>0</th>\n",
       "      <td>Stratton Street Mayfair Westminster Borough London W1J 8LT United Kingdom</td>\n",
       "      <td>581</td>\n",
       "      <td>2/19/2016</td>\n",
       "      <td>8.4</td>\n",
       "      <td>The May Fair Hotel</td>\n",
       "      <td>United Kingdom</td>\n",
       "      <td>Leaving</td>\n",
       "      <td>3</td>\n",
       "      <td>1994</td>\n",
       "      <td>Staff were amazing</td>\n",
       "      <td>4</td>\n",
       "      <td>7</td>\n",
       "      <td>10.0</td>\n",
       "      <td>[' Leisure trip ', ' Couple ', ' Studio Suite ', ' Stayed 2 nights ', ' Submitted from a mobile device ']</td>\n",
       "      <td>531 day</td>\n",
       "      <td>51.507894</td>\n",
       "      <td>-0.143671</td>\n",
       "    </tr>\n",
       "    <tr>\n",
       "      <th>1</th>\n",
       "      <td>130 134 Southampton Row Camden London WC1B 5AF United Kingdom</td>\n",
       "      <td>299</td>\n",
       "      <td>1/12/2017</td>\n",
       "      <td>8.3</td>\n",
       "      <td>Mercure London Bloomsbury Hotel</td>\n",
       "      <td>United Kingdom</td>\n",
       "      <td>poor breakfast</td>\n",
       "      <td>3</td>\n",
       "      <td>1361</td>\n",
       "      <td>location</td>\n",
       "      <td>2</td>\n",
       "      <td>14</td>\n",
       "      <td>6.3</td>\n",
       "      <td>[' Business trip ', ' Couple ', ' Standard Double Room ', ' Stayed 1 night ']</td>\n",
       "      <td>203 day</td>\n",
       "      <td>51.521009</td>\n",
       "      <td>-0.123097</td>\n",
       "    </tr>\n",
       "    <tr>\n",
       "      <th>2</th>\n",
       "      <td>151 bis Rue de Rennes 6th arr 75006 Paris France</td>\n",
       "      <td>32</td>\n",
       "      <td>10/18/2016</td>\n",
       "      <td>8.9</td>\n",
       "      <td>Legend Saint Germain by Elegancia</td>\n",
       "      <td>China</td>\n",
       "      <td>No kettle in room</td>\n",
       "      <td>6</td>\n",
       "      <td>406</td>\n",
       "      <td>No Positive</td>\n",
       "      <td>0</td>\n",
       "      <td>14</td>\n",
       "      <td>7.5</td>\n",
       "      <td>[' Leisure trip ', ' Solo traveler ', ' Modern Double Room Echo ', ' Stayed 3 nights ', ' Submitted from a mobile device ']</td>\n",
       "      <td>289 day</td>\n",
       "      <td>48.845377</td>\n",
       "      <td>2.325643</td>\n",
       "    </tr>\n",
       "    <tr>\n",
       "      <th>3</th>\n",
       "      <td>216 Avenue Jean Jaures 19th arr 75019 Paris France</td>\n",
       "      <td>34</td>\n",
       "      <td>9/22/2015</td>\n",
       "      <td>7.5</td>\n",
       "      <td>Mercure Paris 19 Philharmonie La Villette</td>\n",
       "      <td>United Kingdom</td>\n",
       "      <td>No Negative</td>\n",
       "      <td>0</td>\n",
       "      <td>607</td>\n",
       "      <td>Friendly staff quiet comfortable room spotlessly clean excellent location</td>\n",
       "      <td>11</td>\n",
       "      <td>8</td>\n",
       "      <td>10.0</td>\n",
       "      <td>[' Leisure trip ', ' Solo traveler ', ' Standard Room with 1 Double Bed ', ' Stayed 1 night ']</td>\n",
       "      <td>681 day</td>\n",
       "      <td>48.888697</td>\n",
       "      <td>2.394540</td>\n",
       "    </tr>\n",
       "    <tr>\n",
       "      <th>4</th>\n",
       "      <td>Molenwerf 1 1014 AG Amsterdam Netherlands</td>\n",
       "      <td>914</td>\n",
       "      <td>3/5/2016</td>\n",
       "      <td>8.5</td>\n",
       "      <td>Golden Tulip Amsterdam West</td>\n",
       "      <td>Poland</td>\n",
       "      <td>Torn sheets</td>\n",
       "      <td>4</td>\n",
       "      <td>7586</td>\n",
       "      <td>The staff was very friendly and helpful Breakfasts were just extraordinary Room was clean quiet and very spacious</td>\n",
       "      <td>20</td>\n",
       "      <td>10</td>\n",
       "      <td>9.6</td>\n",
       "      <td>[' Business trip ', ' Couple ', ' Standard Double or Twin Room ', ' Stayed 6 nights ']</td>\n",
       "      <td>516 day</td>\n",
       "      <td>52.385601</td>\n",
       "      <td>4.847060</td>\n",
       "    </tr>\n",
       "  </tbody>\n",
       "</table>\n",
       "</div>"
      ],
      "text/plain": [
       "                                                               hotel_address  \\\n",
       "0  Stratton Street Mayfair Westminster Borough London W1J 8LT United Kingdom   \n",
       "1              130 134 Southampton Row Camden London WC1B 5AF United Kingdom   \n",
       "2                           151 bis Rue de Rennes 6th arr 75006 Paris France   \n",
       "3                         216 Avenue Jean Jaures 19th arr 75019 Paris France   \n",
       "4                                  Molenwerf 1 1014 AG Amsterdam Netherlands   \n",
       "\n",
       "   additional_number_of_scoring review_date  average_score  \\\n",
       "0                           581   2/19/2016            8.4   \n",
       "1                           299   1/12/2017            8.3   \n",
       "2                            32  10/18/2016            8.9   \n",
       "3                            34   9/22/2015            7.5   \n",
       "4                           914    3/5/2016            8.5   \n",
       "\n",
       "                                  hotel_name reviewer_nationality  \\\n",
       "0                         The May Fair Hotel      United Kingdom    \n",
       "1            Mercure London Bloomsbury Hotel      United Kingdom    \n",
       "2          Legend Saint Germain by Elegancia               China    \n",
       "3  Mercure Paris 19 Philharmonie La Villette      United Kingdom    \n",
       "4                Golden Tulip Amsterdam West              Poland    \n",
       "\n",
       "       negative_review  review_total_negative_word_counts  \\\n",
       "0             Leaving                                   3   \n",
       "1       poor breakfast                                  3   \n",
       "2   No kettle in room                                   6   \n",
       "3          No Negative                                  0   \n",
       "4         Torn sheets                                   4   \n",
       "\n",
       "   total_number_of_reviews  \\\n",
       "0                     1994   \n",
       "1                     1361   \n",
       "2                      406   \n",
       "3                      607   \n",
       "4                     7586   \n",
       "\n",
       "                                                                                                       positive_review  \\\n",
       "0                                                                                                   Staff were amazing   \n",
       "1                                                                                                             location   \n",
       "2                                                                                                          No Positive   \n",
       "3                                           Friendly staff quiet comfortable room spotlessly clean excellent location    \n",
       "4   The staff was very friendly and helpful Breakfasts were just extraordinary Room was clean quiet and very spacious    \n",
       "\n",
       "   review_total_positive_word_counts  \\\n",
       "0                                  4   \n",
       "1                                  2   \n",
       "2                                  0   \n",
       "3                                 11   \n",
       "4                                 20   \n",
       "\n",
       "   total_number_of_reviews_reviewer_has_given  reviewer_score  \\\n",
       "0                                           7            10.0   \n",
       "1                                          14             6.3   \n",
       "2                                          14             7.5   \n",
       "3                                           8            10.0   \n",
       "4                                          10             9.6   \n",
       "\n",
       "                                                                                                                          tags  \\\n",
       "0                    [' Leisure trip ', ' Couple ', ' Studio Suite ', ' Stayed 2 nights ', ' Submitted from a mobile device ']   \n",
       "1                                                [' Business trip ', ' Couple ', ' Standard Double Room ', ' Stayed 1 night ']   \n",
       "2  [' Leisure trip ', ' Solo traveler ', ' Modern Double Room Echo ', ' Stayed 3 nights ', ' Submitted from a mobile device ']   \n",
       "3                               [' Leisure trip ', ' Solo traveler ', ' Standard Room with 1 Double Bed ', ' Stayed 1 night ']   \n",
       "4                                       [' Business trip ', ' Couple ', ' Standard Double or Twin Room ', ' Stayed 6 nights ']   \n",
       "\n",
       "  days_since_review        lat       lng  \n",
       "0           531 day  51.507894 -0.143671  \n",
       "1           203 day  51.521009 -0.123097  \n",
       "2           289 day  48.845377  2.325643  \n",
       "3           681 day  48.888697  2.394540  \n",
       "4           516 day  52.385601  4.847060  "
      ]
     },
     "execution_count": 102,
     "metadata": {},
     "output_type": "execute_result"
    }
   ],
   "source": [
    "# прочитаем данные и выведем несколько строк получившегося датасета\n",
    "hotels = pd.read_csv('data/hotels.csv')\n",
    "hotels.head()"
   ]
  },
  {
   "cell_type": "code",
   "execution_count": 103,
   "metadata": {},
   "outputs": [
    {
     "name": "stdout",
     "output_type": "stream",
     "text": [
      "<class 'pandas.core.frame.DataFrame'>\n",
      "RangeIndex: 386803 entries, 0 to 386802\n",
      "Data columns (total 17 columns):\n",
      " #   Column                                      Non-Null Count   Dtype  \n",
      "---  ------                                      --------------   -----  \n",
      " 0   hotel_address                               386803 non-null  object \n",
      " 1   additional_number_of_scoring                386803 non-null  int64  \n",
      " 2   review_date                                 386803 non-null  object \n",
      " 3   average_score                               386803 non-null  float64\n",
      " 4   hotel_name                                  386803 non-null  object \n",
      " 5   reviewer_nationality                        386803 non-null  object \n",
      " 6   negative_review                             386803 non-null  object \n",
      " 7   review_total_negative_word_counts           386803 non-null  int64  \n",
      " 8   total_number_of_reviews                     386803 non-null  int64  \n",
      " 9   positive_review                             386803 non-null  object \n",
      " 10  review_total_positive_word_counts           386803 non-null  int64  \n",
      " 11  total_number_of_reviews_reviewer_has_given  386803 non-null  int64  \n",
      " 12  reviewer_score                              386803 non-null  float64\n",
      " 13  tags                                        386803 non-null  object \n",
      " 14  days_since_review                           386803 non-null  object \n",
      " 15  lat                                         384355 non-null  float64\n",
      " 16  lng                                         384355 non-null  float64\n",
      "dtypes: float64(4), int64(5), object(8)\n",
      "memory usage: 50.2+ MB\n"
     ]
    }
   ],
   "source": [
    "# выведем информацию о датасете\n",
    "hotels.info()"
   ]
  },
  {
   "cell_type": "code",
   "execution_count": 104,
   "metadata": {},
   "outputs": [
    {
     "name": "stdout",
     "output_type": "stream",
     "text": [
      "Количетво дублирущихся строк: 307\n"
     ]
    }
   ],
   "source": [
    "# проверим получившийся датасет на наличие дубликатов\n",
    "dublicated_rows = hotels.duplicated().sum()\n",
    "print(f'Количетво дублирущихся строк: {dublicated_rows}')\n"
   ]
  },
  {
   "cell_type": "code",
   "execution_count": 105,
   "metadata": {},
   "outputs": [],
   "source": [
    "# удалим дубликаты\n",
    "hotels = hotels.drop_duplicates()"
   ]
  },
  {
   "cell_type": "code",
   "execution_count": 106,
   "metadata": {},
   "outputs": [
    {
     "data": {
      "text/plain": [
       "lat    2448\n",
       "lng    2448\n",
       "dtype: int64"
      ]
     },
     "execution_count": 106,
     "metadata": {},
     "output_type": "execute_result"
    }
   ],
   "source": [
    "# проверим датасет на пропуски  и выведем признаки, в которых имеются пропуски и количесвто пропусков\n",
    "hotels.isna().sum()[hotels.isna().sum() > 0]"
   ]
  },
  {
   "cell_type": "code",
   "execution_count": 107,
   "metadata": {},
   "outputs": [
    {
     "data": {
      "text/plain": [
       "array(['Savoyenstra e 2 16 Ottakring 1160 Vienna Austria',\n",
       "       '23 Rue Damr mont 18th arr 75018 Paris France',\n",
       "       'Josefst dter Stra e 10 12 08 Josefstadt 1080 Vienna Austria',\n",
       "       'W hringer Stra e 33 35 09 Alsergrund 1090 Vienna Austria',\n",
       "       '4 rue de la P pini re 8th arr 75008 Paris France',\n",
       "       'Sieveringer Stra e 4 19 D bling 1190 Vienna Austria',\n",
       "       'Taborstra e 8 A 02 Leopoldstadt 1020 Vienna Austria',\n",
       "       'Bail n 4 6 Eixample 08010 Barcelona Spain',\n",
       "       'Gr nentorgasse 30 09 Alsergrund 1090 Vienna Austria',\n",
       "       'Landstra er G rtel 5 03 Landstra e 1030 Vienna Austria',\n",
       "       'Paragonstra e 1 11 Simmering 1110 Vienna Austria',\n",
       "       'W hringer Stra e 12 09 Alsergrund 1090 Vienna Austria',\n",
       "       '20 Rue De La Ga t 14th arr 75014 Paris France',\n",
       "       'Hasenauerstra e 12 19 D bling 1190 Vienna Austria',\n",
       "       'Sep lveda 180 Eixample 08011 Barcelona Spain',\n",
       "       'Pau Clar s 122 Eixample 08009 Barcelona Spain',\n",
       "       'Josefst dter Stra e 22 08 Josefstadt 1080 Vienna Austria'],\n",
       "      dtype=object)"
      ]
     },
     "execution_count": 107,
     "metadata": {},
     "output_type": "execute_result"
    }
   ],
   "source": [
    "# выведем адреса отелей, у которых отсутвуют координаты\n",
    "mask = (hotels['lat'].isnull()) | (hotels['lng'].isnull())\n",
    "hotel_addresses = hotels[mask]['hotel_address'].unique()\n",
    "hotel_addresses\n"
   ]
  },
  {
   "cell_type": "code",
   "execution_count": 108,
   "metadata": {},
   "outputs": [
    {
     "data": {
      "text/plain": [
       "{'Savoyenstra e 2 16 Ottakring 1160 Vienna Austria': [48.211783, 16.297308],\n",
       " '23 Rue Damr mont 18th arr 75018 Paris France': [48.856663, 2.351556],\n",
       " 'Josefst dter Stra e 10 12 08 Josefstadt 1080 Vienna Austria': [48.210918,\n",
       "  16.347119],\n",
       " 'W hringer Stra e 33 35 09 Alsergrund 1090 Vienna Austria': [48.222139,\n",
       "  16.357513],\n",
       " '4 rue de la P pini re 8th arr 75008 Paris France': [48.856663, 2.351556],\n",
       " 'Sieveringer Stra e 4 19 D bling 1190 Vienna Austria': [48.245935, 16.341397],\n",
       " 'Taborstra e 8 A 02 Leopoldstadt 1020 Vienna Austria': [48.218213, 16.39411],\n",
       " 'Bail n 4 6 Eixample 08010 Barcelona Spain': [41.396133, 1.655829],\n",
       " 'Gr nentorgasse 30 09 Alsergrund 1090 Vienna Austria': [48.222139, 16.357513],\n",
       " 'Landstra er G rtel 5 03 Landstra e 1030 Vienna Austria': [48.206487,\n",
       "  16.36346],\n",
       " 'Paragonstra e 1 11 Simmering 1110 Vienna Austria': [48.176599, 16.413999],\n",
       " 'W hringer Stra e 12 09 Alsergrund 1090 Vienna Austria': [48.222139,\n",
       "  16.357513],\n",
       " '20 Rue De La Ga t 14th arr 75014 Paris France': [48.838331, 2.330948],\n",
       " 'Hasenauerstra e 12 19 D bling 1190 Vienna Austria': [48.778035, 15.65565],\n",
       " 'Sep lveda 180 Eixample 08011 Barcelona Spain': [41.425226, 2.181864],\n",
       " 'Pau Clar s 122 Eixample 08009 Barcelona Spain': [41.504994, 2.245959],\n",
       " 'Josefst dter Stra e 22 08 Josefstadt 1080 Vienna Austria': [48.210918,\n",
       "  16.347119]}"
      ]
     },
     "execution_count": 108,
     "metadata": {},
     "output_type": "execute_result"
    }
   ],
   "source": [
    "# воспользуемся библиотекой geocoder для заполения пропусков \n",
    "\n",
    "# создадим словарь, где ключом будет адрес, а значениями ключа - долгота и широта\n",
    "\n",
    "missing_coordinates = {}\n",
    "\n",
    "for address in hotel_addresses:\n",
    "    location = Yandex(api_key='xxx').geocode(address)\n",
    "    missing_coordinates[address] = [location.latitude, location.longitude]\n",
    "\n",
    "missing_coordinates\n"
   ]
  },
  {
   "cell_type": "code",
   "execution_count": 109,
   "metadata": {},
   "outputs": [],
   "source": [
    "# заполним отсутствующие координаты\n",
    "for address in hotel_addresses:\n",
    "    mask1 = (hotels['lat'].isnull()) | (hotels['lng'].isnull())\n",
    "    mask2 = hotels['hotel_address'] == address\n",
    "    hotels.loc[mask1 & mask2, 'lat'] = missing_coordinates[address][0]\n",
    "    hotels.loc[mask1 & mask2, 'lng'] = missing_coordinates[address][1]"
   ]
  },
  {
   "cell_type": "code",
   "execution_count": 110,
   "metadata": {},
   "outputs": [],
   "source": [
    "# создадим словарь уникальных тэгов - ключом будет сам тэг, а значение - сколько раз этот тэг встречается\n",
    "unique_tags = {}\n",
    "\n",
    "for tags in hotels['tags'].values:\n",
    "    tags_text = tags.strip('[]')\n",
    "    tags_list = tags_text.split(', ')\n",
    "    tags_list = [element.strip(\"'\").strip() for element in tags_list]\n",
    "    for tag in tags_list:\n",
    "        if tag in unique_tags.keys():\n",
    "            unique_tags[tag] += 1\n",
    "        else:\n",
    "            unique_tags[tag] = 1\n",
    "\n"
   ]
  },
  {
   "cell_type": "code",
   "execution_count": 111,
   "metadata": {},
   "outputs": [
    {
     "data": {
      "text/html": [
       "<div>\n",
       "<style scoped>\n",
       "    .dataframe tbody tr th:only-of-type {\n",
       "        vertical-align: middle;\n",
       "    }\n",
       "\n",
       "    .dataframe tbody tr th {\n",
       "        vertical-align: top;\n",
       "    }\n",
       "\n",
       "    .dataframe thead th {\n",
       "        text-align: right;\n",
       "    }\n",
       "</style>\n",
       "<table border=\"1\" class=\"dataframe\">\n",
       "  <thead>\n",
       "    <tr style=\"text-align: right;\">\n",
       "      <th></th>\n",
       "      <th>tag_name</th>\n",
       "      <th>number_of_entries</th>\n",
       "    </tr>\n",
       "  </thead>\n",
       "  <tbody>\n",
       "    <tr>\n",
       "      <th>0</th>\n",
       "      <td>Leisure trip</td>\n",
       "      <td>313353</td>\n",
       "    </tr>\n",
       "    <tr>\n",
       "      <th>1</th>\n",
       "      <td>Submitted from a mobile device</td>\n",
       "      <td>230608</td>\n",
       "    </tr>\n",
       "    <tr>\n",
       "      <th>2</th>\n",
       "      <td>Couple</td>\n",
       "      <td>189046</td>\n",
       "    </tr>\n",
       "    <tr>\n",
       "      <th>3</th>\n",
       "      <td>Stayed 1 night</td>\n",
       "      <td>145296</td>\n",
       "    </tr>\n",
       "    <tr>\n",
       "      <th>4</th>\n",
       "      <td>Stayed 2 nights</td>\n",
       "      <td>100176</td>\n",
       "    </tr>\n",
       "    <tr>\n",
       "      <th>5</th>\n",
       "      <td>Solo traveler</td>\n",
       "      <td>81166</td>\n",
       "    </tr>\n",
       "    <tr>\n",
       "      <th>6</th>\n",
       "      <td>Stayed 3 nights</td>\n",
       "      <td>71940</td>\n",
       "    </tr>\n",
       "    <tr>\n",
       "      <th>7</th>\n",
       "      <td>Business trip</td>\n",
       "      <td>61934</td>\n",
       "    </tr>\n",
       "    <tr>\n",
       "      <th>8</th>\n",
       "      <td>Group</td>\n",
       "      <td>49057</td>\n",
       "    </tr>\n",
       "    <tr>\n",
       "      <th>9</th>\n",
       "      <td>Family with young children</td>\n",
       "      <td>45810</td>\n",
       "    </tr>\n",
       "    <tr>\n",
       "      <th>10</th>\n",
       "      <td>Stayed 4 nights</td>\n",
       "      <td>35708</td>\n",
       "    </tr>\n",
       "    <tr>\n",
       "      <th>11</th>\n",
       "      <td>Double Room</td>\n",
       "      <td>26386</td>\n",
       "    </tr>\n",
       "    <tr>\n",
       "      <th>12</th>\n",
       "      <td>Standard Double Room</td>\n",
       "      <td>24150</td>\n",
       "    </tr>\n",
       "    <tr>\n",
       "      <th>13</th>\n",
       "      <td>Superior Double Room</td>\n",
       "      <td>23518</td>\n",
       "    </tr>\n",
       "    <tr>\n",
       "      <th>14</th>\n",
       "      <td>Family with older children</td>\n",
       "      <td>19787</td>\n",
       "    </tr>\n",
       "  </tbody>\n",
       "</table>\n",
       "</div>"
      ],
      "text/plain": [
       "                          tag_name  number_of_entries\n",
       "0                     Leisure trip             313353\n",
       "1   Submitted from a mobile device             230608\n",
       "2                           Couple             189046\n",
       "3                   Stayed 1 night             145296\n",
       "4                  Stayed 2 nights             100176\n",
       "5                    Solo traveler              81166\n",
       "6                  Stayed 3 nights              71940\n",
       "7                    Business trip              61934\n",
       "8                            Group              49057\n",
       "9       Family with young children              45810\n",
       "10                 Stayed 4 nights              35708\n",
       "11                     Double Room              26386\n",
       "12            Standard Double Room              24150\n",
       "13            Superior Double Room              23518\n",
       "14      Family with older children              19787"
      ]
     },
     "metadata": {},
     "output_type": "display_data"
    },
    {
     "name": "stdout",
     "output_type": "stream",
     "text": [
      "Наиболее популяный тег: Leisure trip\n",
      "Путешественники чаще всего останавливались на одну ночь, так как самый популяный тег: Stayed 1 night\n"
     ]
    }
   ],
   "source": [
    "# сделаем из получившегося словаря датасет\n",
    "tags_df = pd.DataFrame(unique_tags.items(), columns=['tag_name', 'number_of_entries'])\n",
    "display(tags_df.sort_values(by='number_of_entries', ascending=False, ignore_index=True).head(15))\n",
    "\n",
    "# выведем самый популярный тэг\n",
    "mask = tags_df['number_of_entries'] == tags_df['number_of_entries'].max()\n",
    "most_popular_tag = tags_df[mask].at[0, 'tag_name']\n",
    "print(f'Наиболее популяный тег: {most_popular_tag}')\n",
    "\n",
    "# Из тегов выясните, на сколько ночей чаще всего останавливаются путешественники в отелях.\n",
    "mask = tags_df['tag_name'].str.contains('Stayed')\n",
    "most_popular_number_of_nights = tags_df[mask].sort_values(by='number_of_entries', ascending=False, ignore_index=True).at[0, 'tag_name']\n",
    "print(f'Путешественники чаще всего останавливались на одну ночь, так как самый популяный тег: {most_popular_number_of_nights}')"
   ]
  },
  {
   "cell_type": "code",
   "execution_count": 112,
   "metadata": {},
   "outputs": [
    {
     "name": "stdout",
     "output_type": "stream",
     "text": [
      "Дата первого отзыва: 2015-08-04\n",
      "Дата последнего отзыва: 2017-08-03\n"
     ]
    }
   ],
   "source": [
    "# Когда был оставлен самый свежий отзыв? Введите ответ в формате yyyy-mm-dd.\n",
    "# Приведем данные в датасете к формату даты\n",
    "hotels['review_date'] = hotels['review_date'].astype('datetime64[ns]')\n",
    "\n",
    "first_review_date = hotels['review_date'].dt.date.min()\n",
    "last_review_date = hotels['review_date'].dt.date.max()\n",
    "\n",
    "print(f'Дата первого отзыва: {first_review_date}\\nДата последнего отзыва: {last_review_date}')\n"
   ]
  },
  {
   "cell_type": "code",
   "execution_count": 113,
   "metadata": {},
   "outputs": [
    {
     "name": "stdout",
     "output_type": "stream",
     "text": [
      "Количество уникальных названий отелей: 1492\n"
     ]
    }
   ],
   "source": [
    "# Сколько уникальных названий отелей представлено в наборе данных?\n",
    "hotels_inique  = hotels['hotel_name'].nunique()\n",
    "\n",
    "print(f'Количество уникальных названий отелей: {hotels_inique}')"
   ]
  },
  {
   "cell_type": "code",
   "execution_count": 114,
   "metadata": {},
   "outputs": [
    {
     "name": "stdout",
     "output_type": "stream",
     "text": [
      "<class 'pandas.core.frame.DataFrame'>\n",
      "Index: 386496 entries, 0 to 386802\n",
      "Data columns (total 17 columns):\n",
      " #   Column                                      Non-Null Count   Dtype         \n",
      "---  ------                                      --------------   -----         \n",
      " 0   hotel_address                               386496 non-null  object        \n",
      " 1   additional_number_of_scoring                386496 non-null  int64         \n",
      " 2   review_date                                 386496 non-null  datetime64[ns]\n",
      " 3   average_score                               386496 non-null  float64       \n",
      " 4   hotel_name                                  386496 non-null  object        \n",
      " 5   reviewer_nationality                        386496 non-null  object        \n",
      " 6   negative_review                             386496 non-null  object        \n",
      " 7   review_total_negative_word_counts           386496 non-null  int64         \n",
      " 8   total_number_of_reviews                     386496 non-null  int64         \n",
      " 9   positive_review                             386496 non-null  object        \n",
      " 10  review_total_positive_word_counts           386496 non-null  int64         \n",
      " 11  total_number_of_reviews_reviewer_has_given  386496 non-null  int64         \n",
      " 12  reviewer_score                              386496 non-null  float64       \n",
      " 13  tags                                        386496 non-null  object        \n",
      " 14  days_since_review                           386496 non-null  object        \n",
      " 15  lat                                         386496 non-null  float64       \n",
      " 16  lng                                         386496 non-null  float64       \n",
      "dtypes: datetime64[ns](1), float64(4), int64(5), object(7)\n",
      "memory usage: 53.1+ MB\n"
     ]
    },
    {
     "data": {
      "text/plain": [
       "None"
      ]
     },
     "metadata": {},
     "output_type": "display_data"
    },
    {
     "data": {
      "text/plain": [
       "hotel_address                                 0\n",
       "additional_number_of_scoring                  0\n",
       "review_date                                   0\n",
       "average_score                                 0\n",
       "hotel_name                                    0\n",
       "reviewer_nationality                          0\n",
       "negative_review                               0\n",
       "review_total_negative_word_counts             0\n",
       "total_number_of_reviews                       0\n",
       "positive_review                               0\n",
       "review_total_positive_word_counts             0\n",
       "total_number_of_reviews_reviewer_has_given    0\n",
       "reviewer_score                                0\n",
       "tags                                          0\n",
       "days_since_review                             0\n",
       "lat                                           0\n",
       "lng                                           0\n",
       "dtype: int64"
      ]
     },
     "metadata": {},
     "output_type": "display_data"
    }
   ],
   "source": [
    "display(hotels.info())\n",
    "display(hotels.isnull().sum())"
   ]
  },
  {
   "cell_type": "code",
   "execution_count": 115,
   "metadata": {},
   "outputs": [],
   "source": [
    "# создадим дополнительные признаки hotel_city и hotel_country\n",
    "\n",
    "hotels['hotel_country'] = hotels['hotel_address'].apply(lambda x: x.split()[-1] if x.split()[-2] != 'United' else ' '.join(x.split()[-2:]))\n",
    "hotels['hotel_city'] = hotels['hotel_address'].apply(lambda x: x.split()[-2] if 'London' not in x else 'London')"
   ]
  },
  {
   "cell_type": "code",
   "execution_count": 116,
   "metadata": {},
   "outputs": [],
   "source": [
    "# создадим признак, в которому укажем, является ли постоялец резидентом  в стране нахождения отеля\n",
    "hotels['is_resident'] = hotels['hotel_country'].str.strip() == hotels['reviewer_nationality'].str.strip()"
   ]
  },
  {
   "cell_type": "code",
   "execution_count": 117,
   "metadata": {},
   "outputs": [],
   "source": [
    "# Приведем данные в датасете к формату даты\n",
    "hotels['review_date'] = hotels['review_date'].astype('datetime64[ns]')\n",
    "\n",
    "# создадим новые признаки из даты, а именно признак дня недели (review_weekday), месяца (review_month) и года (review_year)\n",
    "\n",
    "hotels['review_weekday'] = hotels['review_date'].dt.day_name()\n",
    "hotels['review_month'] = hotels['review_date'].dt.month_name()\n",
    "hotels['review_year'] = hotels['review_date'].dt.year\n",
    "\n",
    "# дополнительно создадим признак сезона\n",
    "seasons_dict = {\n",
    "    'December': 'winter', \n",
    "    'January': 'winter', \n",
    "    'February': 'winter',\n",
    "    'March': 'spring',\n",
    "    'April' : 'spring',\n",
    "    'May': 'spring',\n",
    "    'June': 'summer',\n",
    "    'July': 'summer',\n",
    "    'August': 'summer',\n",
    "    'September': 'autumn',\n",
    "    'October': 'autumn',\n",
    "    'November': 'autumn'\n",
    "}\n",
    "\n",
    "hotels['review_season'] = hotels['review_month'].apply(lambda x: seasons_dict[x])\n"
   ]
  },
  {
   "cell_type": "code",
   "execution_count": 118,
   "metadata": {},
   "outputs": [
    {
     "data": {
      "text/plain": [
       "array(['Stayed 1 night', 'Stayed 2 nights', 'Stayed 3 nights',\n",
       "       'Stayed 4 nights', 'Stayed 5 nights', 'Stayed 6 nights',\n",
       "       'Stayed 7 nights', 'Stayed 8 nights', 'Stayed 9 nights',\n",
       "       'Stayed 10 nights', 'Stayed 11 nights', 'Stayed 12 nights',\n",
       "       'Stayed 14 nights', 'Stayed 13 nights', 'Stayed 15 nights',\n",
       "       'Stayed 16 nights', 'Stayed 17 nights', 'Stayed 18 nights',\n",
       "       'Stayed 19 nights', 'Stayed 21 nights', 'Stayed 20 nights',\n",
       "       'Stayed 30 nights', 'Stayed 27 nights', 'Stayed 22 nights',\n",
       "       'Stayed 28 nights', 'Stayed 23 nights', 'Stayed 26 nights',\n",
       "       'Stayed 24 nights', 'Stayed 25 nights', 'Stayed 29 nights'],\n",
       "      dtype=object)"
      ]
     },
     "execution_count": 118,
     "metadata": {},
     "output_type": "execute_result"
    }
   ],
   "source": [
    "# создадим признак, где бы отображалось количество проведенных в отеле ночей. Для этого используем информацию из тегов, имеющих вид Stayed XX nigths\n",
    "\n",
    "# создадим словарь уникальных тэгов - ключом будет сам тэг, а значение - сколько раз этот тэг встречается\n",
    "unique_tags = {}\n",
    "\n",
    "for tags in hotels['tags'].values:\n",
    "    tags_text = tags.strip('[]')\n",
    "    tags_list = tags_text.split(', ')\n",
    "    tags_list = [element.strip(\"'\").strip() for element in tags_list]\n",
    "    for tag in tags_list:\n",
    "        if tag in unique_tags.keys():\n",
    "            unique_tags[tag] += 1\n",
    "        else:\n",
    "            unique_tags[tag] = 1\n",
    "\n",
    "# сделаем из получившегося словаря датасет\n",
    "tags_df = pd.DataFrame(unique_tags.items(), columns=['tag_name', 'number_of_entries'])\n",
    "\n",
    "# выведем все теги, где упоминается, сколько ночей постоялец провел в отеле.\n",
    "mask1 = tags_df['tag_name'].str.contains('Stayed')\n",
    "tags_df[mask1].sort_values(by='number_of_entries', ascending=False, ignore_index=True)['tag_name'].unique()"
   ]
  },
  {
   "cell_type": "code",
   "execution_count": 119,
   "metadata": {},
   "outputs": [
    {
     "name": "stdout",
     "output_type": "stream",
     "text": [
      "Количество постояльцев, которые не указали количество проведенных в отеле ночей: 146\n"
     ]
    }
   ],
   "source": [
    "# при помощи регулярных выражений вычленим количество проведенных в отеле ночей в отдельный признак\n",
    "\n",
    "reqex = 'Stayed\\s\\d{1,2}'\n",
    "hotels['stayed_nights'] = pd.to_numeric(hotels['tags'].str.findall(reqex).str.get(0).str.findall('\\d{1,2}').str.get(0), errors='coerce')\n",
    "nan_values = hotels['stayed_nights'].isnull().sum()\n",
    "print(f'Количество постояльцев, которые не указали количество проведенных в отеле ночей: {nan_values}')"
   ]
  },
  {
   "cell_type": "code",
   "execution_count": 120,
   "metadata": {},
   "outputs": [],
   "source": [
    "# заполним пропуски в данных о количестве проведенных ночей, используя среднее значение\n",
    "hotels['stayed_nights'] = hotels['stayed_nights'].fillna(hotels['stayed_nights'].mean())\n",
    "\n",
    "# поменяем тип данных на целочисленный\n",
    "hotels['stayed_nights'] = hotels['stayed_nights'].astype('int')\n",
    "\n"
   ]
  },
  {
   "cell_type": "code",
   "execution_count": 121,
   "metadata": {},
   "outputs": [
    {
     "name": "stderr",
     "output_type": "stream",
     "text": [
      "[nltk_data] Downloading package vader_lexicon to\n",
      "[nltk_data]     C:\\Users\\User\\AppData\\Roaming\\nltk_data...\n",
      "[nltk_data]   Package vader_lexicon is already up-to-date!\n"
     ]
    }
   ],
   "source": [
    "# добавим анализ отзывов\n",
    "nltk.downloader.download('vader_lexicon')\n",
    "\n",
    "sent_analyzer = SentimentIntensityAnalyzer()\n",
    "\n",
    "hotels['positive_review_score'] = hotels['positive_review'].apply(lambda x: sent_analyzer.polarity_scores(x)['compound'])\n",
    "hotels['negative_review_score'] = hotels['negative_review'].apply(lambda x: sent_analyzer.polarity_scores(x)['compound'])\n",
    "\n",
    "\n"
   ]
  },
  {
   "cell_type": "code",
   "execution_count": 122,
   "metadata": {},
   "outputs": [
    {
     "name": "stdout",
     "output_type": "stream",
     "text": [
      "<class 'pandas.core.frame.DataFrame'>\n",
      "Index: 386496 entries, 0 to 386802\n",
      "Data columns (total 27 columns):\n",
      " #   Column                                      Non-Null Count   Dtype         \n",
      "---  ------                                      --------------   -----         \n",
      " 0   hotel_address                               386496 non-null  object        \n",
      " 1   additional_number_of_scoring                386496 non-null  int64         \n",
      " 2   review_date                                 386496 non-null  datetime64[ns]\n",
      " 3   average_score                               386496 non-null  float64       \n",
      " 4   hotel_name                                  386496 non-null  object        \n",
      " 5   reviewer_nationality                        386496 non-null  object        \n",
      " 6   negative_review                             386496 non-null  object        \n",
      " 7   review_total_negative_word_counts           386496 non-null  int64         \n",
      " 8   total_number_of_reviews                     386496 non-null  int64         \n",
      " 9   positive_review                             386496 non-null  object        \n",
      " 10  review_total_positive_word_counts           386496 non-null  int64         \n",
      " 11  total_number_of_reviews_reviewer_has_given  386496 non-null  int64         \n",
      " 12  reviewer_score                              386496 non-null  float64       \n",
      " 13  tags                                        386496 non-null  object        \n",
      " 14  days_since_review                           386496 non-null  object        \n",
      " 15  lat                                         386496 non-null  float64       \n",
      " 16  lng                                         386496 non-null  float64       \n",
      " 17  hotel_country                               386496 non-null  object        \n",
      " 18  hotel_city                                  386496 non-null  object        \n",
      " 19  is_resident                                 386496 non-null  bool          \n",
      " 20  review_weekday                              386496 non-null  object        \n",
      " 21  review_month                                386496 non-null  object        \n",
      " 22  review_year                                 386496 non-null  int32         \n",
      " 23  review_season                               386496 non-null  object        \n",
      " 24  stayed_nights                               386496 non-null  int32         \n",
      " 25  positive_review_score                       386496 non-null  float64       \n",
      " 26  negative_review_score                       386496 non-null  float64       \n",
      "dtypes: bool(1), datetime64[ns](1), float64(6), int32(2), int64(5), object(12)\n",
      "memory usage: 77.0+ MB\n"
     ]
    }
   ],
   "source": [
    "hotels.info()"
   ]
  },
  {
   "cell_type": "code",
   "execution_count": 123,
   "metadata": {},
   "outputs": [],
   "source": [
    "# закодируем столбцы 'hotel_country', 'hotel_city', 'is_resident', 'review_weekday', 'review_month', 'review_year', 'review_season' при помощи pd.get_dummies\n",
    "\n",
    "columns_to_code = ['hotel_country', 'hotel_city', 'is_resident', 'review_weekday', 'review_month', 'review_year', 'review_season']\n",
    "\n",
    "hotels = pd.get_dummies(hotels, columns=columns_to_code, dtype=int)\n"
   ]
  },
  {
   "cell_type": "code",
   "execution_count": 124,
   "metadata": {},
   "outputs": [
    {
     "name": "stdout",
     "output_type": "stream",
     "text": [
      "<class 'pandas.core.frame.DataFrame'>\n",
      "Index: 386496 entries, 0 to 386802\n",
      "Data columns (total 60 columns):\n",
      " #   Column                                      Non-Null Count   Dtype         \n",
      "---  ------                                      --------------   -----         \n",
      " 0   hotel_address                               386496 non-null  object        \n",
      " 1   additional_number_of_scoring                386496 non-null  int64         \n",
      " 2   review_date                                 386496 non-null  datetime64[ns]\n",
      " 3   average_score                               386496 non-null  float64       \n",
      " 4   hotel_name                                  386496 non-null  object        \n",
      " 5   reviewer_nationality                        386496 non-null  object        \n",
      " 6   negative_review                             386496 non-null  object        \n",
      " 7   review_total_negative_word_counts           386496 non-null  int64         \n",
      " 8   total_number_of_reviews                     386496 non-null  int64         \n",
      " 9   positive_review                             386496 non-null  object        \n",
      " 10  review_total_positive_word_counts           386496 non-null  int64         \n",
      " 11  total_number_of_reviews_reviewer_has_given  386496 non-null  int64         \n",
      " 12  reviewer_score                              386496 non-null  float64       \n",
      " 13  tags                                        386496 non-null  object        \n",
      " 14  days_since_review                           386496 non-null  object        \n",
      " 15  lat                                         386496 non-null  float64       \n",
      " 16  lng                                         386496 non-null  float64       \n",
      " 17  stayed_nights                               386496 non-null  int32         \n",
      " 18  positive_review_score                       386496 non-null  float64       \n",
      " 19  negative_review_score                       386496 non-null  float64       \n",
      " 20  hotel_country_Austria                       386496 non-null  int32         \n",
      " 21  hotel_country_France                        386496 non-null  int32         \n",
      " 22  hotel_country_Italy                         386496 non-null  int32         \n",
      " 23  hotel_country_Netherlands                   386496 non-null  int32         \n",
      " 24  hotel_country_Spain                         386496 non-null  int32         \n",
      " 25  hotel_country_United Kingdom                386496 non-null  int32         \n",
      " 26  hotel_city_Amsterdam                        386496 non-null  int32         \n",
      " 27  hotel_city_Barcelona                        386496 non-null  int32         \n",
      " 28  hotel_city_London                           386496 non-null  int32         \n",
      " 29  hotel_city_Milan                            386496 non-null  int32         \n",
      " 30  hotel_city_Paris                            386496 non-null  int32         \n",
      " 31  hotel_city_Vienna                           386496 non-null  int32         \n",
      " 32  is_resident_False                           386496 non-null  int32         \n",
      " 33  is_resident_True                            386496 non-null  int32         \n",
      " 34  review_weekday_Friday                       386496 non-null  int32         \n",
      " 35  review_weekday_Monday                       386496 non-null  int32         \n",
      " 36  review_weekday_Saturday                     386496 non-null  int32         \n",
      " 37  review_weekday_Sunday                       386496 non-null  int32         \n",
      " 38  review_weekday_Thursday                     386496 non-null  int32         \n",
      " 39  review_weekday_Tuesday                      386496 non-null  int32         \n",
      " 40  review_weekday_Wednesday                    386496 non-null  int32         \n",
      " 41  review_month_April                          386496 non-null  int32         \n",
      " 42  review_month_August                         386496 non-null  int32         \n",
      " 43  review_month_December                       386496 non-null  int32         \n",
      " 44  review_month_February                       386496 non-null  int32         \n",
      " 45  review_month_January                        386496 non-null  int32         \n",
      " 46  review_month_July                           386496 non-null  int32         \n",
      " 47  review_month_June                           386496 non-null  int32         \n",
      " 48  review_month_March                          386496 non-null  int32         \n",
      " 49  review_month_May                            386496 non-null  int32         \n",
      " 50  review_month_November                       386496 non-null  int32         \n",
      " 51  review_month_October                        386496 non-null  int32         \n",
      " 52  review_month_September                      386496 non-null  int32         \n",
      " 53  review_year_2015                            386496 non-null  int32         \n",
      " 54  review_year_2016                            386496 non-null  int32         \n",
      " 55  review_year_2017                            386496 non-null  int32         \n",
      " 56  review_season_autumn                        386496 non-null  int32         \n",
      " 57  review_season_spring                        386496 non-null  int32         \n",
      " 58  review_season_summer                        386496 non-null  int32         \n",
      " 59  review_season_winter                        386496 non-null  int32         \n",
      "dtypes: datetime64[ns](1), float64(6), int32(41), int64(5), object(7)\n",
      "memory usage: 119.4+ MB\n"
     ]
    }
   ],
   "source": [
    "hotels.info()"
   ]
  },
  {
   "cell_type": "code",
   "execution_count": 125,
   "metadata": {},
   "outputs": [
    {
     "name": "stdout",
     "output_type": "stream",
     "text": [
      "<class 'pandas.core.frame.DataFrame'>\n",
      "Index: 386496 entries, 0 to 386802\n",
      "Data columns (total 52 columns):\n",
      " #   Column                                      Non-Null Count   Dtype  \n",
      "---  ------                                      --------------   -----  \n",
      " 0   additional_number_of_scoring                386496 non-null  int64  \n",
      " 1   average_score                               386496 non-null  float64\n",
      " 2   review_total_negative_word_counts           386496 non-null  int64  \n",
      " 3   total_number_of_reviews                     386496 non-null  int64  \n",
      " 4   review_total_positive_word_counts           386496 non-null  int64  \n",
      " 5   total_number_of_reviews_reviewer_has_given  386496 non-null  int64  \n",
      " 6   reviewer_score                              386496 non-null  float64\n",
      " 7   lat                                         386496 non-null  float64\n",
      " 8   lng                                         386496 non-null  float64\n",
      " 9   stayed_nights                               386496 non-null  int32  \n",
      " 10  positive_review_score                       386496 non-null  float64\n",
      " 11  negative_review_score                       386496 non-null  float64\n",
      " 12  hotel_country_Austria                       386496 non-null  int32  \n",
      " 13  hotel_country_France                        386496 non-null  int32  \n",
      " 14  hotel_country_Italy                         386496 non-null  int32  \n",
      " 15  hotel_country_Netherlands                   386496 non-null  int32  \n",
      " 16  hotel_country_Spain                         386496 non-null  int32  \n",
      " 17  hotel_country_United Kingdom                386496 non-null  int32  \n",
      " 18  hotel_city_Amsterdam                        386496 non-null  int32  \n",
      " 19  hotel_city_Barcelona                        386496 non-null  int32  \n",
      " 20  hotel_city_London                           386496 non-null  int32  \n",
      " 21  hotel_city_Milan                            386496 non-null  int32  \n",
      " 22  hotel_city_Paris                            386496 non-null  int32  \n",
      " 23  hotel_city_Vienna                           386496 non-null  int32  \n",
      " 24  is_resident_False                           386496 non-null  int32  \n",
      " 25  is_resident_True                            386496 non-null  int32  \n",
      " 26  review_weekday_Friday                       386496 non-null  int32  \n",
      " 27  review_weekday_Monday                       386496 non-null  int32  \n",
      " 28  review_weekday_Saturday                     386496 non-null  int32  \n",
      " 29  review_weekday_Sunday                       386496 non-null  int32  \n",
      " 30  review_weekday_Thursday                     386496 non-null  int32  \n",
      " 31  review_weekday_Tuesday                      386496 non-null  int32  \n",
      " 32  review_weekday_Wednesday                    386496 non-null  int32  \n",
      " 33  review_month_April                          386496 non-null  int32  \n",
      " 34  review_month_August                         386496 non-null  int32  \n",
      " 35  review_month_December                       386496 non-null  int32  \n",
      " 36  review_month_February                       386496 non-null  int32  \n",
      " 37  review_month_January                        386496 non-null  int32  \n",
      " 38  review_month_July                           386496 non-null  int32  \n",
      " 39  review_month_June                           386496 non-null  int32  \n",
      " 40  review_month_March                          386496 non-null  int32  \n",
      " 41  review_month_May                            386496 non-null  int32  \n",
      " 42  review_month_November                       386496 non-null  int32  \n",
      " 43  review_month_October                        386496 non-null  int32  \n",
      " 44  review_month_September                      386496 non-null  int32  \n",
      " 45  review_year_2015                            386496 non-null  int32  \n",
      " 46  review_year_2016                            386496 non-null  int32  \n",
      " 47  review_year_2017                            386496 non-null  int32  \n",
      " 48  review_season_autumn                        386496 non-null  int32  \n",
      " 49  review_season_spring                        386496 non-null  int32  \n",
      " 50  review_season_summer                        386496 non-null  int32  \n",
      " 51  review_season_winter                        386496 non-null  int32  \n",
      "dtypes: float64(6), int32(41), int64(5)\n",
      "memory usage: 95.8 MB\n"
     ]
    }
   ],
   "source": [
    "# удалим текстовые признаки\n",
    "\n",
    "columns_to_dprop = [col for col in hotels.columns if hotels[col].dtypes == 'object']\n",
    "hotels = hotels.drop(columns_to_dprop, axis=1)\n",
    "\n",
    "# также удалим признак review_date \n",
    "\n",
    "hotels = hotels.drop('review_date', axis=1)\n",
    "\n",
    "# выведем информацию об оставшихся признаках\n",
    "\n",
    "hotels.info()"
   ]
  },
  {
   "cell_type": "code",
   "execution_count": 126,
   "metadata": {},
   "outputs": [],
   "source": [
    "# Разбиваем датафрейм на части, необходимые для обучения и тестирования модели  \n",
    "# Х - данные с информацией об отелях, у - целевая переменная (рейтинги отелей)  \n",
    "X = hotels.drop(['reviewer_score'], axis = 1)  \n",
    "y = hotels['reviewer_score'] "
   ]
  },
  {
   "cell_type": "code",
   "execution_count": 127,
   "metadata": {},
   "outputs": [],
   "source": [
    "# Загружаем специальный инструмент для разбивки:  \n",
    "from sklearn.model_selection import train_test_split  "
   ]
  },
  {
   "cell_type": "code",
   "execution_count": 128,
   "metadata": {},
   "outputs": [],
   "source": [
    "# Наборы данных с меткой \"train\" будут использоваться для обучения модели, \"test\" - для тестирования.  \n",
    "# Для тестирования мы будем использовать 25% от исходного датасета.  \n",
    "X_train, X_test, y_train, y_test = train_test_split(X, y, test_size=0.25, random_state=42)"
   ]
  },
  {
   "cell_type": "code",
   "execution_count": 129,
   "metadata": {},
   "outputs": [],
   "source": [
    "# Импортируем необходимые библиотеки:  \n",
    "from sklearn.ensemble import RandomForestRegressor # инструмент для создания и обучения модели  \n",
    "from sklearn import metrics # инструменты для оценки точности модели  \n",
    "  \n",
    "# Создаём модель  \n",
    "regr = RandomForestRegressor(n_estimators=100)  \n",
    "      \n",
    "# Обучаем модель на тестовом наборе данных  \n",
    "regr.fit(X_train, y_train)  \n",
    "      \n",
    "# Используем обученную модель для предсказания рейтинга отелей в тестовой выборке.  \n",
    "# Предсказанные значения записываем в переменную y_pred  \n",
    "y_pred = regr.predict(X_test)  \n"
   ]
  },
  {
   "cell_type": "code",
   "execution_count": 130,
   "metadata": {},
   "outputs": [
    {
     "name": "stdout",
     "output_type": "stream",
     "text": [
      "MAPE: 0.12604077183404644\n"
     ]
    }
   ],
   "source": [
    "# Сравниваем предсказанные значения (y_pred) с реальными (y_test), и смотрим насколько они отличаются  \n",
    "# Метрика называется Mean Absolute Percentage Error (MAPE) и показывает среднюю абсолютную процентную ошибку предсказанных значений от фактических.  \n",
    "print('MAPE:', metrics.mean_absolute_percentage_error(y_test, y_pred))"
   ]
  }
 ],
 "metadata": {
  "kernelspec": {
   "display_name": "Python 3",
   "language": "python",
   "name": "python3"
  },
  "language_info": {
   "codemirror_mode": {
    "name": "ipython",
    "version": 3
   },
   "file_extension": ".py",
   "mimetype": "text/x-python",
   "name": "python",
   "nbconvert_exporter": "python",
   "pygments_lexer": "ipython3",
   "version": "3.9.10"
  }
 },
 "nbformat": 4,
 "nbformat_minor": 2
}
