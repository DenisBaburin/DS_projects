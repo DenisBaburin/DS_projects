{
 "cells": [
  {
   "cell_type": "code",
   "execution_count": 1,
   "metadata": {},
   "outputs": [],
   "source": [
    "import numpy as np\n",
    "import pandas as pd\n",
    "from sklearn.model_selection import train_test_split\n",
    "from sklearn.preprocessing import StandardScaler\n",
    "from sklearn.ensemble import GradientBoostingClassifier\n",
    "from sklearn.metrics import f1_score\n",
    "from sklearn.preprocessing import MinMaxScaler\n",
    "from sklearn.model_selection import GridSearchCV\n",
    "from xgboost import XGBClassifier\n",
    "from sklearn.model_selection import train_test_split\n",
    "from sklearn.metrics import accuracy_score\n",
    "from tensorflow.keras.models import Sequential\n",
    "from tensorflow.keras.layers import LSTM, Dense, Dropout\n",
    "from tensorflow.keras.optimizers import Adam\n",
    "from sklearn.ensemble import VotingClassifier\n",
    "from sklearn.model_selection import cross_val_score"
   ]
  },
  {
   "cell_type": "code",
   "execution_count": 60,
   "metadata": {},
   "outputs": [
    {
     "name": "stdout",
     "output_type": "stream",
     "text": [
      "Размер тренировочной выборки: (323, 40, 100)\n",
      "Размер тестовой выборки: (54, 40, 100)\n",
      "Метки классов, размер: (32300, 2)\n"
     ]
    },
    {
     "data": {
      "text/html": [
       "<div>\n",
       "<style scoped>\n",
       "    .dataframe tbody tr th:only-of-type {\n",
       "        vertical-align: middle;\n",
       "    }\n",
       "\n",
       "    .dataframe tbody tr th {\n",
       "        vertical-align: top;\n",
       "    }\n",
       "\n",
       "    .dataframe thead th {\n",
       "        text-align: right;\n",
       "    }\n",
       "</style>\n",
       "<table border=\"1\" class=\"dataframe\">\n",
       "  <thead>\n",
       "    <tr style=\"text-align: right;\">\n",
       "      <th></th>\n",
       "      <th>sample-timestep</th>\n",
       "      <th>class</th>\n",
       "    </tr>\n",
       "  </thead>\n",
       "  <tbody>\n",
       "    <tr>\n",
       "      <th>0</th>\n",
       "      <td>0-0</td>\n",
       "      <td>0</td>\n",
       "    </tr>\n",
       "    <tr>\n",
       "      <th>1</th>\n",
       "      <td>0-1</td>\n",
       "      <td>0</td>\n",
       "    </tr>\n",
       "    <tr>\n",
       "      <th>2</th>\n",
       "      <td>0-2</td>\n",
       "      <td>0</td>\n",
       "    </tr>\n",
       "    <tr>\n",
       "      <th>3</th>\n",
       "      <td>0-3</td>\n",
       "      <td>0</td>\n",
       "    </tr>\n",
       "    <tr>\n",
       "      <th>4</th>\n",
       "      <td>0-4</td>\n",
       "      <td>0</td>\n",
       "    </tr>\n",
       "  </tbody>\n",
       "</table>\n",
       "</div>"
      ],
      "text/plain": [
       "  sample-timestep  class\n",
       "0             0-0      0\n",
       "1             0-1      0\n",
       "2             0-2      0\n",
       "3             0-3      0\n",
       "4             0-4      0"
      ]
     },
     "metadata": {},
     "output_type": "display_data"
    }
   ],
   "source": [
    "# Загрузка данных\n",
    "X_train = np.load('data/X_train.npy')\n",
    "X_test = np.load('data/X_test.npy')\n",
    "y_train = pd.read_csv('data/y_train.csv')\n",
    "\n",
    "# Отображение размерностей данных и первых несколько строк y_train\n",
    "X_train_shape = X_train.shape\n",
    "X_test_shape = X_test.shape\n",
    "y_train_shape = y_train.shape\n",
    "y_train_head = y_train.head()\n",
    "\n",
    "print('Размер тренировочной выборки: {}'.format(X_train_shape), 'Размер тестовой выборки: {}'.format(X_test_shape), 'Метки классов, размер: {}'.format(y_train_shape), sep='\\n')\n",
    "\n",
    "display(y_train_head)\n"
   ]
  },
  {
   "cell_type": "code",
   "execution_count": 61,
   "metadata": {},
   "outputs": [
    {
     "data": {
      "text/plain": [
       "class\n",
       "0    17950\n",
       "1     1800\n",
       "2     1800\n",
       "3     1800\n",
       "4     1750\n",
       "5     1800\n",
       "6     1800\n",
       "7     1800\n",
       "8     1800\n",
       "Name: count, dtype: int64"
      ]
     },
     "execution_count": 61,
     "metadata": {},
     "output_type": "execute_result"
    }
   ],
   "source": [
    "# Анализ распределения классов в y_train\n",
    "class_distribution = y_train['class'].value_counts().sort_index()\n",
    "\n",
    "class_distribution\n"
   ]
  },
  {
   "cell_type": "code",
   "execution_count": 62,
   "metadata": {},
   "outputs": [
    {
     "name": "stdout",
     "output_type": "stream",
     "text": [
      "Размер тренировочной выборки: (32300, 40)\n",
      "Размер тестовой выборки: (5400, 40)\n"
     ]
    }
   ],
   "source": [
    "# Сделаем датафрейм из тренировочных данных. Датафрейм будет состоя из 40 столбцов и 32300 строчек, и будет содеражть данные \n",
    "# со всем датчиков по сто значений на каждый семпл\n",
    "X_train_df = pd.DataFrame(columns=[f'{i}'for i in range(X_train.shape[1])])\n",
    "for i in range(len(X_train)):\n",
    "    X_train_df = pd.concat([X_train_df, pd.DataFrame(X_train[i].T, columns=[f'{i}'for i in range(X_train.shape[1])])], ignore_index=True)\n",
    "\n",
    "X_test_df = pd.DataFrame(columns=[f'{i}'for i in range(X_test.shape[1])])\n",
    "for i in range(len(X_test)):\n",
    "    X_test_df = pd.concat([X_test_df, pd.DataFrame(X_test[i].T, columns=[f'{i}'for i in range(X_test.shape[1])])], ignore_index=True)\n",
    "    \n",
    "# Выведем размеры полученных датафреймов\n",
    "print('Размер тренировочной выборки:', X_train_df.shape)\n",
    "print('Размер тестовой выборки:', X_test_df.shape)\n",
    "\n",
    "# Запишем полученные датафреймы в файлы\n",
    "#submission_file_path = 'data/X_train_df.csv'\n",
    "#X_train_df.to_csv(submission_file_path, index=False)\n",
    "\n",
    "#submission_file_path = 'data/X_test_df.csv'\n",
    "#X_test_df.to_csv(submission_file_path, index=False)"
   ]
  },
  {
   "cell_type": "code",
   "execution_count": 63,
   "metadata": {},
   "outputs": [
    {
     "data": {
      "text/plain": [
       "((25840, 40), (6460, 40), (25840,), (6460,))"
      ]
     },
     "execution_count": 63,
     "metadata": {},
     "output_type": "execute_result"
    }
   ],
   "source": [
    "# Стандартизация данных\n",
    "scaler = StandardScaler()\n",
    "X_train_scaled = scaler.fit_transform(X_train_df)\n",
    "X_test_scaled = scaler.transform(X_test_df)\n",
    "\n",
    "y = y_train['class']\n",
    "\n",
    "# Разделение на обучающую и валидационную выборки\n",
    "X_train_split, X_val_split, y_train_split, y_val_split = train_test_split(\n",
    "    X_train_scaled, y, test_size=0.2, random_state=42, stratify=y\n",
    ")\n",
    "\n",
    "X_train_split.shape, X_val_split.shape, y_train_split.shape, y_val_split.shape\n"
   ]
  },
  {
   "cell_type": "code",
   "execution_count": null,
   "metadata": {},
   "outputs": [],
   "source": [
    "# Нормализация данных\n",
    "scaler = MinMaxScaler()\n",
    "\n",
    "# Нормализация обучающих и тестовых данных\n",
    "X_train_scaled = scaler.fit_transform(X_train_scaled)\n",
    "X_test_scaled = scaler.transform(X_test_scaled)"
   ]
  },
  {
   "cell_type": "code",
   "execution_count": 65,
   "metadata": {},
   "outputs": [
    {
     "name": "stdout",
     "output_type": "stream",
     "text": [
      "Fitting 5 folds for each of 64 candidates, totalling 320 fits\n"
     ]
    },
    {
     "data": {
      "text/plain": [
       "({'learning_rate': 0.1, 'max_depth': 10, 'n_estimators': 1000},\n",
       " 0.9663945708836053)"
      ]
     },
     "execution_count": 65,
     "metadata": {},
     "output_type": "execute_result"
    }
   ],
   "source": [
    "# Попробуем решить задачу с использованием XGBboosting и используем Optuna для поиска оптимальных параметров\n",
    "\n",
    "# Определение пространства гиперпараметров для поиска\n",
    "param_grid = {\n",
    "    'learning_rate': [0.01, 0.1, 0.5, 0.7],\n",
    "    'n_estimators': [50, 100, 150, 1000],\n",
    "    'max_depth': [3, 5, 7, 10]\n",
    "}\n",
    "\n",
    "# Модель XGBoost для GridSearch\n",
    "xgb_model_gs = XGBClassifier(use_label_encoder=False, eval_metric='mlogloss', random_state=42)\n",
    "\n",
    "# Настройка GridSearchCV\n",
    "grid_search = GridSearchCV(estimator=xgb_model_gs, param_grid=param_grid, cv=5, scoring='f1_weighted', verbose=2, n_jobs=-1)\n",
    "\n",
    "# Запуск поиска\n",
    "grid_search.fit(X_train_split, y_train_split)\n",
    "\n",
    "# Лучшие параметры и лучшая оценка\n",
    "best_params = grid_search.best_params_\n",
    "best_score = grid_search.best_score_\n",
    "\n",
    "print('Лучшие параметры:', best_params)\n",
    "print('Лучший скор:', best_score)\n",
    "\n"
   ]
  },
  {
   "cell_type": "code",
   "execution_count": 66,
   "metadata": {},
   "outputs": [
    {
     "name": "stderr",
     "output_type": "stream",
     "text": [
      "c:\\Users\\User\\AppData\\Local\\Programs\\Python\\Python39\\lib\\site-packages\\xgboost\\core.py:727: FutureWarning: Pass `objective` as keyword args.\n",
      "  warnings.warn(msg, FutureWarning)\n"
     ]
    },
    {
     "data": {
      "text/plain": [
       "0.9653112343120472"
      ]
     },
     "execution_count": 66,
     "metadata": {},
     "output_type": "execute_result"
    }
   ],
   "source": [
    "# Проверим на отложенной выборке, как работает модель\n",
    "\n",
    "xgb_model_gs = XGBClassifier(*best_params, use_label_encoder=False, eval_metric='mlogloss', random_state=42)\n",
    "xgb_model_gs.fit(X_train_split, y_train_split)\n",
    "predictions = xgb_model_gs.predict(X_val_split)\n",
    "f1_val = f1_score(y_val_split, predictions, average='weighted')\n",
    "print('Значение F1 метрики для валидационного набора данных:', f1_val)"
   ]
  },
  {
   "cell_type": "code",
   "execution_count": 70,
   "metadata": {},
   "outputs": [],
   "source": [
    "xgb_submission = pd.read_csv('data/sample_submission.csv')\n",
    "predictions = grid_search.predict(X_test_df)\n",
    "xgb_submission['class'] = predictions\n",
    "# Сохраняем DataFrame в CSV файл без индекса\n",
    "submission_file_path = 'data/submission_xgboost_v3.csv'\n",
    "xgb_submission.to_csv(submission_file_path, index=False)"
   ]
  },
  {
   "cell_type": "code",
   "execution_count": 69,
   "metadata": {},
   "outputs": [
    {
     "name": "stderr",
     "output_type": "stream",
     "text": [
      "[I 2024-04-10 20:28:55,615] A new study created in memory with name: no-name-270bc55c-3d6e-4708-9f5d-42fa4f48c5dc\n",
      "[I 2024-04-10 20:29:01,117] Trial 0 finished with value: 0.8834937157326059 and parameters: {'iterations': 78, 'learning_rate': 0.3578071298379829, 'depth': 8, 'l2_leaf_reg': 11}. Best is trial 0 with value: 0.8834937157326059.\n",
      "[I 2024-04-10 20:29:30,370] Trial 1 finished with value: 0.9087474093245724 and parameters: {'iterations': 87, 'learning_rate': 0.215400184889273, 'depth': 10, 'l2_leaf_reg': 4}. Best is trial 1 with value: 0.9087474093245724.\n",
      "[I 2024-04-10 20:30:28,113] Trial 2 finished with value: 0.9247981871924212 and parameters: {'iterations': 172, 'learning_rate': 0.18284857319707826, 'depth': 10, 'l2_leaf_reg': 7}. Best is trial 2 with value: 0.9247981871924212.\n",
      "[I 2024-04-10 20:30:34,194] Trial 3 finished with value: 0.853486855812969 and parameters: {'iterations': 81, 'learning_rate': 0.17059745653062813, 'depth': 8, 'l2_leaf_reg': 11}. Best is trial 2 with value: 0.9247981871924212.\n",
      "[I 2024-04-10 20:32:09,660] Trial 4 finished with value: 0.9380536100997693 and parameters: {'iterations': 275, 'learning_rate': 0.13018157476276904, 'depth': 10, 'l2_leaf_reg': 4}. Best is trial 4 with value: 0.9380536100997693.\n",
      "[I 2024-04-10 20:32:10,707] Trial 5 finished with value: 0.8350088604937539 and parameters: {'iterations': 55, 'learning_rate': 0.1333204070039163, 'depth': 6, 'l2_leaf_reg': 7}. Best is trial 4 with value: 0.9380536100997693.\n",
      "[I 2024-04-10 20:32:13,481] Trial 6 finished with value: 0.8871554423786193 and parameters: {'iterations': 256, 'learning_rate': 0.2166717143009478, 'depth': 5, 'l2_leaf_reg': 8}. Best is trial 4 with value: 0.9380536100997693.\n",
      "[I 2024-04-10 20:32:14,782] Trial 7 finished with value: 0.8647914067028899 and parameters: {'iterations': 75, 'learning_rate': 0.3652975067556969, 'depth': 6, 'l2_leaf_reg': 11}. Best is trial 4 with value: 0.9380536100997693.\n",
      "[I 2024-04-10 20:32:16,868] Trial 8 finished with value: 0.8605647137894252 and parameters: {'iterations': 245, 'learning_rate': 0.1484859949875782, 'depth': 4, 'l2_leaf_reg': 4}. Best is trial 4 with value: 0.9380536100997693.\n",
      "[I 2024-04-10 20:32:19,406] Trial 9 finished with value: 0.8776633643820596 and parameters: {'iterations': 249, 'learning_rate': 0.17013094925717556, 'depth': 5, 'l2_leaf_reg': 6}. Best is trial 4 with value: 0.9380536100997693.\n",
      "[I 2024-04-10 20:34:44,274] Trial 10 finished with value: 0.846762195539293 and parameters: {'iterations': 291, 'learning_rate': 0.01882384743774196, 'depth': 11, 'l2_leaf_reg': 1}. Best is trial 4 with value: 0.9380536100997693.\n",
      "[I 2024-04-10 20:35:37,999] Trial 11 finished with value: 0.8584020787940417 and parameters: {'iterations': 152, 'learning_rate': 0.05696036408494176, 'depth': 10, 'l2_leaf_reg': 4}. Best is trial 4 with value: 0.9380536100997693.\n",
      "[I 2024-04-10 20:36:05,372] Trial 12 finished with value: 0.9402371498130558 and parameters: {'iterations': 174, 'learning_rate': 0.2766517550457642, 'depth': 9, 'l2_leaf_reg': 1}. Best is trial 12 with value: 0.9402371498130558.\n",
      "[I 2024-04-10 20:36:21,722] Trial 13 finished with value: 0.931844057648242 and parameters: {'iterations': 133, 'learning_rate': 0.2908934549110287, 'depth': 9, 'l2_leaf_reg': 1}. Best is trial 12 with value: 0.9402371498130558.\n",
      "[I 2024-04-10 20:38:31,383] Trial 14 finished with value: 0.9433101917701743 and parameters: {'iterations': 200, 'learning_rate': 0.28492494272990826, 'depth': 11, 'l2_leaf_reg': 2}. Best is trial 14 with value: 0.9433101917701743.\n",
      "[I 2024-04-10 20:40:08,150] Trial 15 finished with value: 0.9335429487888017 and parameters: {'iterations': 213, 'learning_rate': 0.287887785449826, 'depth': 11, 'l2_leaf_reg': 2}. Best is trial 14 with value: 0.9433101917701743.\n",
      "[I 2024-04-10 20:40:28,863] Trial 16 finished with value: 0.9387001752412882 and parameters: {'iterations': 202, 'learning_rate': 0.2819244079757753, 'depth': 9, 'l2_leaf_reg': 2}. Best is trial 14 with value: 0.9433101917701743.\n",
      "[I 2024-04-10 20:40:48,855] Trial 17 finished with value: 0.9368099807284382 and parameters: {'iterations': 127, 'learning_rate': 0.3204298553579651, 'depth': 9, 'l2_leaf_reg': 2}. Best is trial 14 with value: 0.9433101917701743.\n",
      "[I 2024-04-10 20:40:55,808] Trial 18 finished with value: 0.9229141436967123 and parameters: {'iterations': 207, 'learning_rate': 0.26110096407132677, 'depth': 7, 'l2_leaf_reg': 3}. Best is trial 14 with value: 0.9433101917701743.\n",
      "[I 2024-04-10 20:43:16,738] Trial 19 finished with value: 0.9422491908078796 and parameters: {'iterations': 178, 'learning_rate': 0.24631970793990793, 'depth': 11, 'l2_leaf_reg': 9}. Best is trial 14 with value: 0.9433101917701743.\n"
     ]
    },
    {
     "name": "stdout",
     "output_type": "stream",
     "text": [
      "Лучшие параметры: {'iterations': 200, 'learning_rate': 0.28492494272990826, 'depth': 11, 'l2_leaf_reg': 2}\n",
      "Лучший F1-скор: 0.9433101917701743\n"
     ]
    }
   ],
   "source": [
    "import optuna\n",
    "from catboost import CatBoostClassifier\n",
    "from sklearn.metrics import f1_score\n",
    "from sklearn.model_selection import train_test_split\n",
    "\n",
    "# Функция для определения объективной метрики, которую Optuna будет оптимизировать\n",
    "def objective(trial):\n",
    "    # Определение диапазона значений гиперпараметров\n",
    "    param = {\n",
    "        'iterations': trial.suggest_int('iterations', 50, 300),\n",
    "        'learning_rate': trial.suggest_float('learning_rate', 0.01, 0.4),\n",
    "        'depth': trial.suggest_int('depth', 4, 11),\n",
    "        'l2_leaf_reg': trial.suggest_int('l2_leaf_reg', 1, 11),\n",
    "        'loss_function': 'MultiClass',\n",
    "        'eval_metric': 'TotalF1:average=Weighted',\n",
    "        'verbose': False\n",
    "    }\n",
    "    \n",
    "       \n",
    "    # Создание и обучение модели CatBoost\n",
    "    model = CatBoostClassifier(**param)\n",
    "    model.fit(X_train_split, y_train_split, eval_set=[(X_val_split, y_val_split)], early_stopping_rounds=10, verbose=0)\n",
    "    \n",
    "    # Предсказание на валидационном наборе\n",
    "    preds = model.predict(X_val_split)\n",
    "    \n",
    "    # Вычисление F1-скора\n",
    "    f1 = f1_score(y_val_split, preds, average='weighted')\n",
    "    \n",
    "    return f1\n",
    "\n",
    "# Создание Optuna study объекта и запуск оптимизации\n",
    "study = optuna.create_study(direction='maximize')\n",
    "study.optimize(objective, n_trials=20)  # Укажите количество итераций поиска\n",
    "\n",
    "# Вывод лучших параметров\n",
    "print(\"Лучшие параметры:\", study.best_params)\n",
    "print(\"Лучший F1-скор:\", study.best_value)"
   ]
  },
  {
   "cell_type": "code",
   "execution_count": 71,
   "metadata": {},
   "outputs": [
    {
     "name": "stdout",
     "output_type": "stream",
     "text": [
      "F1-Score on Validation Set: 0.9474960167651263\n"
     ]
    }
   ],
   "source": [
    "from catboost import CatBoostClassifier, Pool\n",
    "from sklearn.metrics import f1_score\n",
    "\n",
    "# Создание объекта модели CatBoostClassifier\n",
    "catboost_model_best = CatBoostClassifier(\n",
    "    iterations=225,\n",
    "    learning_rate=0.28868655799528853,\n",
    "    depth= 11,\n",
    "    l2_leaf_reg=7,\n",
    "    loss_function='MultiClass',\n",
    "    verbose=False,\n",
    "    eval_metric='TotalF1:average=Weighted'\n",
    ")\n",
    "\n",
    "# Обучение модели\n",
    "catboost_model_best.fit(X_train_split, y_train_split, eval_set=[(X_val_split, y_val_split)], early_stopping_rounds=10, verbose=0)\n",
    "\n",
    "# Предсказание на валидационном наборе\n",
    "preds = catboost_model_best.predict(X_val_split)\n",
    "    \n",
    "    # Вычисление F1-скора\n",
    "f1 = f1_score(y_val_split, preds, average='weighted')\n",
    "\n",
    "print(f\"F1-Score on Validation Set: {f1}\")"
   ]
  },
  {
   "cell_type": "code",
   "execution_count": null,
   "metadata": {},
   "outputs": [
    {
     "name": "stdout",
     "output_type": "stream",
     "text": [
      "F1-Score on Validation Set: 0.9474960167651263\n"
     ]
    }
   ],
   "source": [
    "print(f\"F1-Score on Validation Set: {f1}\")"
   ]
  },
  {
   "cell_type": "code",
   "execution_count": 74,
   "metadata": {},
   "outputs": [],
   "source": [
    "preds = catboost_model_best.predict(X_test_df)\n",
    "submission_catboost_v3 = pd.read_csv('data/sample_submission.csv')\n",
    "submission_catboost_v3['class'] = preds\n",
    "# Сохраняем DataFrame в CSV файл без индекса\n",
    "submission_file_path = 'data/submission_catboost_v3.csv'\n",
    "submission_catboost_v3.to_csv(submission_file_path, index=False)"
   ]
  }
 ],
 "metadata": {
  "kernelspec": {
   "display_name": "Python 3",
   "language": "python",
   "name": "python3"
  },
  "language_info": {
   "codemirror_mode": {
    "name": "ipython",
    "version": 3
   },
   "file_extension": ".py",
   "mimetype": "text/x-python",
   "name": "python",
   "nbconvert_exporter": "python",
   "pygments_lexer": "ipython3",
   "version": "3.9.10"
  }
 },
 "nbformat": 4,
 "nbformat_minor": 2
}
